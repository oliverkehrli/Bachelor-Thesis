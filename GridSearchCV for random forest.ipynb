{
 "cells": [
  {
   "cell_type": "markdown",
   "id": "25255f82",
   "metadata": {},
   "source": [
    "# GridSearchCV for random forest"
   ]
  },
  {
   "cell_type": "code",
   "execution_count": null,
   "id": "be023a60",
   "metadata": {},
   "outputs": [],
   "source": [
    "# importing general libraries\n",
    "from pprint import pprint\n",
    "import pandas as pd\n",
    "import numpy as np\n",
    "import sys\n",
    "import joblib \n",
    "import os\n",
    "\n",
    "# importing machine learning libraries\n",
    "from sklearn.ensemble import RandomForestRegressor\n",
    "from sklearn.model_selection import RandomizedSearchCV, GridSearchCV, train_test_split\n",
    "from sklearn.preprocessing import MinMaxScaler\n",
    "from sklearn import metrics\n",
    "\n",
    "# define the range of values for each hyperparamter to optimise: \n",
    "# Number of trees in random forest\n",
    "n_estimators = [20]\n",
    "# Number of features to consider at every split\n",
    "max_features = ['auto']\n",
    "# Maximum number of levels in tree\n",
    "max_depth = [20, 40]\n",
    "# Minimum number of samples required to split a node\n",
    "min_samples_split = [100]\n",
    "# Minimum number of samples required to consider node as leaf node\n",
    "min_samples_leaf = [10] # convert values in list to int\n",
    "# Method of selecting samples for training each tree\n",
    "bootstrap = [True]\n",
    "# Create the grid\n",
    "test_grid = {'n_estimators': n_estimators,\n",
    "               'max_features': max_features,\n",
    "               'max_depth': max_depth,\n",
    "               'min_samples_split': min_samples_split,\n",
    "               'min_samples_leaf': min_samples_leaf,\n",
    "               'bootstrap': bootstrap}\n",
    "\n",
    "# Use the grid to search for best hyperparameters\n",
    "# First create the base model to tune\n",
    "rf = RandomForestRegressor()\n",
    "# Search of parameters, using 3 fold cross validation, \n",
    "rf_grid = GridSearchCV(estimator = rf, \n",
    "                       param_grid = test_grid,\n",
    "                       cv = 3,\n",
    "                       verbose=10,\n",
    "                       n_jobs = 1\n",
    ")\n",
    "# Fit the random search model\n",
    "rf_grid.fit(X_train, y_train)\n",
    "\n",
    "# print parameters of best combination\n",
    "print('parameters of best estimator: ', rf_grid.best_params_)\n",
    "\n",
    "# print history of all combinations\n",
    "rf_grid.cv_results_"
   ]
  }
 ],
 "metadata": {
  "kernelspec": {
   "display_name": "Python 3",
   "language": "python",
   "name": "python3"
  },
  "language_info": {
   "codemirror_mode": {
    "name": "ipython",
    "version": 3
   },
   "file_extension": ".py",
   "mimetype": "text/x-python",
   "name": "python",
   "nbconvert_exporter": "python",
   "pygments_lexer": "ipython3",
   "version": "3.6.13"
  }
 },
 "nbformat": 4,
 "nbformat_minor": 5
}
