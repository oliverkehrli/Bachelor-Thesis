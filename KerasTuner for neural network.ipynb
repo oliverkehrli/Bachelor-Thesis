{
 "cells": [
  {
   "cell_type": "markdown",
   "id": "6959ca94",
   "metadata": {},
   "source": [
    "# KerasTuner for neural network"
   ]
  },
  {
   "cell_type": "code",
   "execution_count": null,
   "id": "e22ebbdd",
   "metadata": {},
   "outputs": [],
   "source": [
    "# importing general libraries\n",
    "import numpy as np\n",
    "import pandas as pd\n",
    "import sys # used to generate output file\n",
    "import matplotlib.pyplot as plt\n",
    "%matplotlib inline\n",
    "\n",
    "# preprocessing libraries: \n",
    "from sklearn.preprocessing import OneHotEncoder \n",
    "from sklearn.model_selection import train_test_split \n",
    "from sklearn.preprocessing import MinMaxScaler \n",
    "\n",
    "# machine learning libraries: \n",
    "import tensorflow as tf \n",
    "from tensorflow import keras \n",
    "from tensorflow.keras import datasets, layers, models \n",
    "import keras_tuner as kt \n",
    "from keras import callbacks \n",
    "\n",
    "# defining a class that lets you input a range of values for each hyperparameter, that should be used by KerasTuner\n",
    "    class MyHyperModel(kt.HyperModel):\n",
    "    def build(self, hp):\n",
    "        model = keras.Sequential()\n",
    "\n",
    "        # tune the number of layers\n",
    "        for i in range(hp.Int(\"num_layers\", 2, 4)): \n",
    "          model.add(\n",
    "            keras.layers.Dense(\n",
    "            # tune the number of units (neurons)\n",
    "            units=hp.Int(f\"units_{i}\", \n",
    "                min_value = 32, \n",
    "                max_value=128, \n",
    "                step=32),\n",
    "              activation=\"relu\"\n",
    "            )\n",
    "        )\n",
    "        # tune the dropout rate\n",
    "        model.add(\n",
    "            layers.Dropout(\n",
    "            rate=hp.Float(\"dropout\",   \n",
    "                min_value = 0.0, \n",
    "                max_value=0.2, \n",
    "                step=0.1)\n",
    "            )\n",
    "        )\n",
    "        \n",
    "        # output layer with linear activation function\n",
    "        model.add(keras.layers.Dense(1, activation=\"linear\"))\n",
    "\n",
    "        model.compile(\n",
    "            optimizer=keras.optimizers.Adam(\n",
    "                learning_rate=hp.Choice(\"lr\", [1e-2, 1e-3, 1e-4])),\n",
    "            loss=keras.losses.MeanAbsoluteError(), \n",
    "            metrics=keras.metrics.MeanAbsoluteError()\n",
    "        )\n",
    "        \n",
    "    return model"
   ]
  }
 ],
 "metadata": {
  "kernelspec": {
   "display_name": "Python 3",
   "language": "python",
   "name": "python3"
  },
  "language_info": {
   "codemirror_mode": {
    "name": "ipython",
    "version": 3
   },
   "file_extension": ".py",
   "mimetype": "text/x-python",
   "name": "python",
   "nbconvert_exporter": "python",
   "pygments_lexer": "ipython3",
   "version": "3.6.13"
  }
 },
 "nbformat": 4,
 "nbformat_minor": 5
}
