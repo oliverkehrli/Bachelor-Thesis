{
 "cells": [
  {
   "cell_type": "markdown",
   "id": "7c1d589e",
   "metadata": {},
   "source": [
    "# Preprocessing for machine learning models"
   ]
  },
  {
   "cell_type": "code",
   "execution_count": null,
   "id": "7ddf09bf",
   "metadata": {},
   "outputs": [],
   "source": [
    "# preprocessing libraries: \n",
    "from sklearn.preprocessing import OneHotEncoder \n",
    "from sklearn.model_selection import train_test_split \n",
    "from sklearn.preprocessing import MinMaxScaler \n",
    "\n",
    "# import dataframe from csv file\n",
    "df = pd.read_csv('/content/features_2021.csv')\n",
    "\n",
    "# split data into features and label\n",
    "X = df.copy() #features\n",
    "y = X.pop('DELAY') #label\n",
    "\n",
    "# using pandas get_dummies to OneHotEncode nominal features\n",
    "X = pd.get_dummies(X)\n",
    "\n",
    "# bring the input features into a common scale using MinMaxScaler\n",
    "scaler = MinMaxScaler() #define scaler\n",
    "\n",
    "scaler.fit(X) #fit scaler on data\n",
    "scaler.fit_transform(X,y) #transform data\n",
    "\n",
    "# numpy arrays are used for the machine learning models\n",
    "X = np.array(X)\n",
    "y = np.array(y)\n",
    "\n",
    "# create train- and test sets\n",
    "X_train, X_test, y_train, y_test = train_test_split(X, y, test_size=0.25)"
   ]
  }
 ],
 "metadata": {
  "kernelspec": {
   "display_name": "Python 3",
   "language": "python",
   "name": "python3"
  },
  "language_info": {
   "codemirror_mode": {
    "name": "ipython",
    "version": 3
   },
   "file_extension": ".py",
   "mimetype": "text/x-python",
   "name": "python",
   "nbconvert_exporter": "python",
   "pygments_lexer": "ipython3",
   "version": "3.6.13"
  }
 },
 "nbformat": 4,
 "nbformat_minor": 5
}
